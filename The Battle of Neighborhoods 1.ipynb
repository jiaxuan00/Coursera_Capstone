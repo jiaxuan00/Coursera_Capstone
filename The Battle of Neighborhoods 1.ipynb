{
 "cells": [
  {
   "cell_type": "markdown",
   "metadata": {},
   "source": [
    "## Applied Data Science Capstone Project - The Battle of Neighborhoods\n",
    "### Recommending Suitable Location in Toronto to open a shopping mall\n",
    "##### Jia Xuan Tan (July 2020)\n",
    "---"
   ]
  },
  {
   "cell_type": "markdown",
   "metadata": {},
   "source": [
    "### Table of contents\n",
    "- Introduction / Business Problem Section\n",
    "- Data Section\n",
    "- Methodology Section"
   ]
  },
  {
   "cell_type": "markdown",
   "metadata": {},
   "source": [
    "### 1. Introduction / Business Problem Section"
   ]
  },
  {
   "cell_type": "markdown",
   "metadata": {},
   "source": [
    "#### 1.1 Background\n",
    "Melbourne is a diverse city and is a truly magnificent city in which to live, work and study.In 2017, Melbourne was once again ranked the world's most liveable city by the Economist Intelligence Unit's (EIU) Global Liveability Index since the index began in 2002. In 2016 Melbourne achieved perfect scores in healthcare, education and infrastructure while it outranked Sydney in the areas of stability, and culture & environment.\n",
    "\n",
    "With property prices falling for the last two months, and the economy will spiral further if the Covid-19 outbreak continues to spread,some experts are saying now isn’t the right time to snap up a new home.\n",
    "\n",
    "However, according to hotspotting.com.au managing director Terry Ryder, he believes that it's a great time to buy real estate in many locations around Australian now, particularly regional centres and the smaller capital cities, and especially for first-home buyers. Metropole Property Strategists CEO Michael Yardney also said “any time” could be either the worst time or the best time for you to buy property.\n",
    "\n",
    "It really depends on your own goals, budget, timeline, risk profile and circumstances as to whether 2020 is a good time to buy."
   ]
  },
  {
   "cell_type": "markdown",
   "metadata": {},
   "source": [
    "### 1.2 Business Problem\n",
    "In this case, a machine learning tool would be able to assist homebuyers in Melbourne to make effective decisions. As a result, the goal of this project is to develop machine learning algorithms to provide support to homebuyers in Melbourne to purchase a suitable and profitable real estate in this uncertain economic situation?\n",
    "\n",
    "To start, we will be clustering Melbourne suburbs in order to recommend venues. We will recommend suitable venues according to various factors need such as :\n",
    "- Housing Prices in Melbourne\n",
    "- Demographics of Melbourne   \n",
    "- Nearby Venues/Facilities "
   ]
  },
  {
   "cell_type": "markdown",
   "metadata": {},
   "source": [
    "### 1.3 Target Audience\n",
    "The objective is to locate and recommend to interested home buyers / property investors which suburb of Melbourne will be the best choice to invest in. The users also expects to understand the rationale of the recommendations made.\n",
    "\n",
    "This would interest anyone who wants to purchase properties in Melborne."
   ]
  },
  {
   "cell_type": "markdown",
   "metadata": {},
   "source": [
    "### 2. The Data\n",
    "<b>For the below analysis we will get data from Kaggle as given below:</b>\n",
    "- Melbourne Housing Sales Price: https://www.kaggle.com/anthonypino/melbourne-housing-market?select=Melbourne_housing_FULL.csv\n",
    "\n",
    "<b>To explore and target recommended locations across different venues according to the presence of amenities and facilities, we will access data through FourSquare API interface and arrange them as a dataframe for visualization.</b>\n",
    "- Nearby Facilities/Venues \n",
    "\n",
    "<i>By merging data on Melbourne housing prices by suburb and data on amenities and facilities surrounding such properties from FourSquare API interface, we will be able to recommend profitable locations to invest in a property."
   ]
  }
 ],
 "metadata": {
  "kernelspec": {
   "display_name": "Python",
   "language": "python",
   "name": "conda-env-python-py"
  },
  "language_info": {
   "codemirror_mode": {
    "name": "ipython",
    "version": 3
   },
   "file_extension": ".py",
   "mimetype": "text/x-python",
   "name": "python",
   "nbconvert_exporter": "python",
   "pygments_lexer": "ipython3",
   "version": "3.6.10"
  }
 },
 "nbformat": 4,
 "nbformat_minor": 4
}
